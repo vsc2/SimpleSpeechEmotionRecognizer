{
 "cells": [
  {
   "cell_type": "markdown",
   "id": "87154877-3b1e-4d89-9fae-b340dcf03b64",
   "metadata": {},
   "source": [
    "# A Simple Speech Emotion Recognition System\n",
    "\n",
    "This notebook shows how to create a simple Speech Emotion Recognition (SER) system using [OpenSmile's](https://www.audeering.com/research/opensmile/) ComParE 2006 feature set of statistical functionals. The dataset used was the [EmoDB](http://emodb.bilderbar.info/start.html) dataset of emotional speech, with utterances in german for 7 different emotions (including neutral), spoken by 10 different actors and 10 different sentences. The SER system uses a simple K Nearest Neighbours classifier from the [Scikit-learn](https://scikit-learn.org/stable/modules/generated/sklearn.neighbors.KNeighborsClassifier.html) toolkit.\n",
    "\n",
    "This notebook is for demonstration purposes only, and only provides you with a very simple SER system. In truth, a linear SVC would provide better results than the KNN, however the results are more interesting using the KNN.\n",
    "\n",
    "As part of this code you will also find:<br>\n",
    "-preprocess_emodb.py: Here you will find the code used for preprocessing the EmoDB dataset.\n",
    "\n",
    "\n",
    "\n",
    "To make sure this code runs correctly, download the [EmoDB dataset](http://emodb.bilderbar.info/start.html), extract the .zip file, store it in the main folder of this project, and rename it \"EmoDB\"."
   ]
  },
  {
   "cell_type": "code",
   "execution_count": 1,
   "id": "2f57bc61-a3a3-41ba-ad92-aa9d341873d0",
   "metadata": {},
   "outputs": [],
   "source": [
    "# main imports. you may have to install some of the libraries, for example using pip. Check the respective\n",
    "# website for more information on how to install them correctly.\n",
    "\n",
    "import os\n",
    "import pickle\n",
    "import pandas as pd\n",
    "import numpy as np\n",
    "from tqdm import tqdm\n",
    "\n",
    "import opensmile\n",
    "\n",
    "from sklearn.preprocessing import StandardScaler\n",
    "from sklearn.neighbors import KNeighborsClassifier\n",
    "import matplotlib.pyplot as plt\n",
    "import seaborn as sns\n",
    "sns.set_theme()\n",
    "\n",
    "from sklearn.metrics import recall_score\n",
    "from sklearn.metrics import precision_score\n",
    "from sklearn.metrics import f1_score\n",
    "from sklearn.metrics import confusion_matrix, ConfusionMatrixDisplay\n",
    "from sklearn.metrics import accuracy_score"
   ]
  },
  {
   "cell_type": "markdown",
   "id": "c09c87a6-74d8-427e-865c-9d0eeacb6367",
   "metadata": {},
   "source": [
    "## EmoDB data\n",
    "Let's have a short look at the EmoDB data. The *EmoDB_data* class provides us with some simple methods to explore our dataset."
   ]
  },
  {
   "cell_type": "code",
   "execution_count": 2,
   "id": "a4330359-c116-4bfe-a564-d3df509c439c",
   "metadata": {},
   "outputs": [],
   "source": [
    "# import this class to easily handle the EmoDB data\n",
    "from preprocess_emodb import EmoDB_data\n",
    "emodb = EmoDB_data()"
   ]
  },
  {
   "cell_type": "markdown",
   "id": "ab180fc4-4e7c-4930-ae77-95884a3d7d2b",
   "metadata": {},
   "source": [
    "The sentences spoken out by the EmoDB actors are quite funny. Here you can see the original (german) and the english version of each. "
   ]
  },
  {
   "cell_type": "code",
   "execution_count": 3,
   "id": "2338ce3a-4079-48cf-9791-3d141c3adbfd",
   "metadata": {},
   "outputs": [
    {
     "data": {
      "text/html": [
       "<div>\n",
       "<style scoped>\n",
       "    .dataframe tbody tr th:only-of-type {\n",
       "        vertical-align: middle;\n",
       "    }\n",
       "\n",
       "    .dataframe tbody tr th {\n",
       "        vertical-align: top;\n",
       "    }\n",
       "\n",
       "    .dataframe thead th {\n",
       "        text-align: right;\n",
       "    }\n",
       "</style>\n",
       "<table border=\"1\" class=\"dataframe\">\n",
       "  <thead>\n",
       "    <tr style=\"text-align: right;\">\n",
       "      <th></th>\n",
       "      <th>german</th>\n",
       "      <th>english</th>\n",
       "    </tr>\n",
       "  </thead>\n",
       "  <tbody>\n",
       "    <tr>\n",
       "      <th>a01</th>\n",
       "      <td>Der Lappen liegt auf dem Eisschrank.</td>\n",
       "      <td>The tablecloth is lying on the frigde.</td>\n",
       "    </tr>\n",
       "    <tr>\n",
       "      <th>a02</th>\n",
       "      <td>Das will sie am Mittwoch abgeben.</td>\n",
       "      <td>She will hand it in on Wednesday.</td>\n",
       "    </tr>\n",
       "    <tr>\n",
       "      <th>a04</th>\n",
       "      <td>Heute abend könnte ich es ihm sagen.</td>\n",
       "      <td>Tonight I could tell him.</td>\n",
       "    </tr>\n",
       "    <tr>\n",
       "      <th>a05</th>\n",
       "      <td>Das schwarze Stück Papier befindet sich da obe...</td>\n",
       "      <td>The black sheet of paper is located up there b...</td>\n",
       "    </tr>\n",
       "    <tr>\n",
       "      <th>a07</th>\n",
       "      <td>In sieben Stunden wird es soweit sein.</td>\n",
       "      <td>In seven hours it will be.</td>\n",
       "    </tr>\n",
       "    <tr>\n",
       "      <th>b01</th>\n",
       "      <td>Was sind denn das für Tüten, die da unter dem ...</td>\n",
       "      <td>What about the bags standing there under the t...</td>\n",
       "    </tr>\n",
       "    <tr>\n",
       "      <th>b02</th>\n",
       "      <td>Sie haben es gerade hochgetragen und jetzt geh...</td>\n",
       "      <td>They just carried it upstairs and now they are...</td>\n",
       "    </tr>\n",
       "    <tr>\n",
       "      <th>b03</th>\n",
       "      <td>An den Wochenenden bin ich jetzt immer nach Ha...</td>\n",
       "      <td>Currently at the weekends I always went home a...</td>\n",
       "    </tr>\n",
       "    <tr>\n",
       "      <th>b09</th>\n",
       "      <td>Ich will das eben wegbringen und dann mit Karl...</td>\n",
       "      <td>I will just discard this and then go for a dri...</td>\n",
       "    </tr>\n",
       "    <tr>\n",
       "      <th>b10</th>\n",
       "      <td>Die wird auf dem Platz sein, wo wir sie immer ...</td>\n",
       "      <td>It will be in the place where we always store it.</td>\n",
       "    </tr>\n",
       "  </tbody>\n",
       "</table>\n",
       "</div>"
      ],
      "text/plain": [
       "                                                german  \\\n",
       "a01               Der Lappen liegt auf dem Eisschrank.   \n",
       "a02                  Das will sie am Mittwoch abgeben.   \n",
       "a04               Heute abend könnte ich es ihm sagen.   \n",
       "a05  Das schwarze Stück Papier befindet sich da obe...   \n",
       "a07             In sieben Stunden wird es soweit sein.   \n",
       "b01  Was sind denn das für Tüten, die da unter dem ...   \n",
       "b02  Sie haben es gerade hochgetragen und jetzt geh...   \n",
       "b03  An den Wochenenden bin ich jetzt immer nach Ha...   \n",
       "b09  Ich will das eben wegbringen und dann mit Karl...   \n",
       "b10  Die wird auf dem Platz sein, wo wir sie immer ...   \n",
       "\n",
       "                                               english  \n",
       "a01             The tablecloth is lying on the frigde.  \n",
       "a02                  She will hand it in on Wednesday.  \n",
       "a04                          Tonight I could tell him.  \n",
       "a05  The black sheet of paper is located up there b...  \n",
       "a07                         In seven hours it will be.  \n",
       "b01  What about the bags standing there under the t...  \n",
       "b02  They just carried it upstairs and now they are...  \n",
       "b03  Currently at the weekends I always went home a...  \n",
       "b09  I will just discard this and then go for a dri...  \n",
       "b10  It will be in the place where we always store it.  "
      ]
     },
     "execution_count": 3,
     "metadata": {},
     "output_type": "execute_result"
    }
   ],
   "source": [
    "emodb.get_sentences_info()"
   ]
  },
  {
   "cell_type": "markdown",
   "id": "570e805a-a80a-4af5-b30b-f85d051efffc",
   "metadata": {},
   "source": [
    "As you can see in the dataframe below, we have ten actors that read out the sentences with different emotions. It is possible to easily notice that there are 5 male and 5 female voices, with ages between 21 and 35. One thing that is important is that when we test the performance of our dataset, the testset is completely independent of the training set. This means, not only the samples that we use should not be the same. We should also try to test with speakers that were not in the training dataset. Otherwise out test results may be too optimistic, but not account for new voices it has never heard before."
   ]
  },
  {
   "cell_type": "code",
   "execution_count": 4,
   "id": "02f0c945-8843-45ad-9a40-0ad315e3225f",
   "metadata": {},
   "outputs": [
    {
     "data": {
      "text/html": [
       "<div>\n",
       "<style scoped>\n",
       "    .dataframe tbody tr th:only-of-type {\n",
       "        vertical-align: middle;\n",
       "    }\n",
       "\n",
       "    .dataframe tbody tr th {\n",
       "        vertical-align: top;\n",
       "    }\n",
       "\n",
       "    .dataframe thead th {\n",
       "        text-align: right;\n",
       "    }\n",
       "</style>\n",
       "<table border=\"1\" class=\"dataframe\">\n",
       "  <thead>\n",
       "    <tr style=\"text-align: right;\">\n",
       "      <th></th>\n",
       "      <th>gender</th>\n",
       "      <th>age</th>\n",
       "    </tr>\n",
       "  </thead>\n",
       "  <tbody>\n",
       "    <tr>\n",
       "      <th>03</th>\n",
       "      <td>male</td>\n",
       "      <td>31</td>\n",
       "    </tr>\n",
       "    <tr>\n",
       "      <th>08</th>\n",
       "      <td>female</td>\n",
       "      <td>34</td>\n",
       "    </tr>\n",
       "    <tr>\n",
       "      <th>09</th>\n",
       "      <td>female</td>\n",
       "      <td>21</td>\n",
       "    </tr>\n",
       "    <tr>\n",
       "      <th>10</th>\n",
       "      <td>male</td>\n",
       "      <td>32</td>\n",
       "    </tr>\n",
       "    <tr>\n",
       "      <th>11</th>\n",
       "      <td>male</td>\n",
       "      <td>26</td>\n",
       "    </tr>\n",
       "    <tr>\n",
       "      <th>12</th>\n",
       "      <td>male</td>\n",
       "      <td>30</td>\n",
       "    </tr>\n",
       "    <tr>\n",
       "      <th>13</th>\n",
       "      <td>female</td>\n",
       "      <td>32</td>\n",
       "    </tr>\n",
       "    <tr>\n",
       "      <th>14</th>\n",
       "      <td>female</td>\n",
       "      <td>35</td>\n",
       "    </tr>\n",
       "    <tr>\n",
       "      <th>15</th>\n",
       "      <td>male</td>\n",
       "      <td>25</td>\n",
       "    </tr>\n",
       "    <tr>\n",
       "      <th>16</th>\n",
       "      <td>female</td>\n",
       "      <td>31</td>\n",
       "    </tr>\n",
       "  </tbody>\n",
       "</table>\n",
       "</div>"
      ],
      "text/plain": [
       "    gender age\n",
       "03    male  31\n",
       "08  female  34\n",
       "09  female  21\n",
       "10    male  32\n",
       "11    male  26\n",
       "12    male  30\n",
       "13  female  32\n",
       "14  female  35\n",
       "15    male  25\n",
       "16  female  31"
      ]
     },
     "execution_count": 4,
     "metadata": {},
     "output_type": "execute_result"
    }
   ],
   "source": [
    "emodb.get_speaker_info()"
   ]
  },
  {
   "cell_type": "markdown",
   "id": "efeed494-bc8b-47bf-8bd1-d04d1cf79a2b",
   "metadata": {},
   "source": [
    "Next, we should also have an idea which emotions we are trying to predict, i.e. which labels we are using. In the following example we will use 7 different emotions, as provided by EmoDB. However, we could also choose to use valence labels, which are binary."
   ]
  },
  {
   "cell_type": "code",
   "execution_count": 5,
   "id": "3efd399c-4c82-4599-8019-a90611e288b8",
   "metadata": {},
   "outputs": [
    {
     "data": {
      "text/html": [
       "<div>\n",
       "<style scoped>\n",
       "    .dataframe tbody tr th:only-of-type {\n",
       "        vertical-align: middle;\n",
       "    }\n",
       "\n",
       "    .dataframe tbody tr th {\n",
       "        vertical-align: top;\n",
       "    }\n",
       "\n",
       "    .dataframe thead th {\n",
       "        text-align: right;\n",
       "    }\n",
       "</style>\n",
       "<table border=\"1\" class=\"dataframe\">\n",
       "  <thead>\n",
       "    <tr style=\"text-align: right;\">\n",
       "      <th></th>\n",
       "      <th>emotion</th>\n",
       "      <th>valence</th>\n",
       "    </tr>\n",
       "  </thead>\n",
       "  <tbody>\n",
       "    <tr>\n",
       "      <th>W</th>\n",
       "      <td>anger</td>\n",
       "      <td>negative</td>\n",
       "    </tr>\n",
       "    <tr>\n",
       "      <th>L</th>\n",
       "      <td>boredom</td>\n",
       "      <td>negative</td>\n",
       "    </tr>\n",
       "    <tr>\n",
       "      <th>E</th>\n",
       "      <td>disgust</td>\n",
       "      <td>negative</td>\n",
       "    </tr>\n",
       "    <tr>\n",
       "      <th>A</th>\n",
       "      <td>fear</td>\n",
       "      <td>negative</td>\n",
       "    </tr>\n",
       "    <tr>\n",
       "      <th>F</th>\n",
       "      <td>happiness</td>\n",
       "      <td>positive</td>\n",
       "    </tr>\n",
       "    <tr>\n",
       "      <th>T</th>\n",
       "      <td>sadness</td>\n",
       "      <td>negative</td>\n",
       "    </tr>\n",
       "    <tr>\n",
       "      <th>N</th>\n",
       "      <td>neutral</td>\n",
       "      <td>positive</td>\n",
       "    </tr>\n",
       "  </tbody>\n",
       "</table>\n",
       "</div>"
      ],
      "text/plain": [
       "     emotion   valence\n",
       "W      anger  negative\n",
       "L    boredom  negative\n",
       "E    disgust  negative\n",
       "A       fear  negative\n",
       "F  happiness  positive\n",
       "T    sadness  negative\n",
       "N    neutral  positive"
      ]
     },
     "execution_count": 5,
     "metadata": {},
     "output_type": "execute_result"
    }
   ],
   "source": [
    "emodb.get_emotions_info()"
   ]
  },
  {
   "cell_type": "markdown",
   "id": "2872ceca-b891-4acd-8d38-6c12fd1bc7ca",
   "metadata": {},
   "source": [
    "Before we start training, let's have another look at the dataset that we are using. There are 535 samples, and opensmile provices us with 6373 unique features. What each feature represents you can see in the table below as well. They comprise of statistical functionals of different Low Level Descriptors that describe different audio features at short intervals of time for each audio file.\n",
    "The training data will be composed of the features (X) and the labels (y). Below you can also check the 7 different labels that will be used and how often they occur in the dataset"
   ]
  },
  {
   "cell_type": "code",
   "execution_count": 6,
   "id": "fb2fa25a-5e10-48bc-b784-fe8f56e03821",
   "metadata": {},
   "outputs": [],
   "source": [
    "# We could alternatively use the valence labels, however this would make the system less interesting and we\n",
    "# would need to account for the imbalance in the dataset, as most emotions in the dataset are negative.\n",
    "# X, y = emodb.get_full_training_data(labeling=\"valence\")\n",
    "X, y = emodb.get_full_training_data(labeling=\"emotion\")"
   ]
  },
  {
   "cell_type": "code",
   "execution_count": 7,
   "id": "645695d3-187c-452c-85d9-f0f9a51b15f5",
   "metadata": {},
   "outputs": [
    {
     "data": {
      "text/plain": [
       "(535, 6373)"
      ]
     },
     "execution_count": 7,
     "metadata": {},
     "output_type": "execute_result"
    }
   ],
   "source": [
    "X.shape"
   ]
  },
  {
   "cell_type": "code",
   "execution_count": 8,
   "id": "d414f5cc-f2e3-4bb4-b7de-16588f6835f8",
   "metadata": {},
   "outputs": [
    {
     "data": {
      "text/plain": [
       "['audspec_lengthL1norm_sma_range',\n",
       " 'audspec_lengthL1norm_sma_maxPos',\n",
       " 'audspec_lengthL1norm_sma_minPos',\n",
       " 'audspec_lengthL1norm_sma_quartile1',\n",
       " 'audspec_lengthL1norm_sma_quartile2',\n",
       " 'audspec_lengthL1norm_sma_quartile3',\n",
       " 'audspec_lengthL1norm_sma_iqr1-2',\n",
       " 'mfcc_sma_de[14]_peakMeanMeanDist',\n",
       " 'mfcc_sma_de[14]_peakMeanRel',\n",
       " 'mfcc_sma_de[14]_minRangeRel',\n",
       " 'mfcc_sma_de[14]_meanRisingSlope',\n",
       " 'mfcc_sma_de[14]_stddevRisingSlope',\n",
       " 'mfcc_sma_de[14]_meanFallingSlope',\n",
       " 'mfcc_sma_de[14]_stddevFallingSlope']"
      ]
     },
     "execution_count": 8,
     "metadata": {},
     "output_type": "execute_result"
    }
   ],
   "source": [
    "\n",
    "columns = list(emodb._get_audio_info().columns)\n",
    "columns[3:10] + columns[-7:]"
   ]
  },
  {
   "cell_type": "code",
   "execution_count": 9,
   "id": "bd1416b1-7630-4351-bc55-a4282971aaed",
   "metadata": {},
   "outputs": [
    {
     "data": {
      "text/plain": [
       "Emotion  \n",
       "anger        127\n",
       "boredom       81\n",
       "neutral       79\n",
       "happiness     71\n",
       "fear          69\n",
       "sadness       62\n",
       "disgust       46\n",
       "dtype: int64"
      ]
     },
     "execution_count": 9,
     "metadata": {},
     "output_type": "execute_result"
    }
   ],
   "source": [
    "pd.DataFrame(y, columns=[\"Emotion\"]).value_counts()"
   ]
  },
  {
   "cell_type": "markdown",
   "id": "5c8aaf3e-b9c6-4907-92b0-6536fa3f5a36",
   "metadata": {},
   "source": [
    "## Optimization and Training\n",
    "Now that we already know more or less what data we are working with, let's start the training process. \n",
    "To keep this simple, this notebook will only cover a very simple model class: a KNN classifier, which selects for k nearest neighbours and selects the majority class of these neighbours. \n",
    "\n",
    "This section is divided into three parts: \n",
    "1) First, we will go through several training runs in order to optimize for the n_neighbours hyperparameter to select the number of neighborus, using Group-K-fold validation to make sure each actor is either in the training or test set on each fold.\n",
    "\n",
    "2) We will evaluate the results on the training and test sets to determine the best performing hyperparameter.\n",
    "\n",
    "3) Train the final SER system and store it.\n",
    "\n",
    "\n",
    "In general, for the optimization of the hyperparameters, the training set is split into a training and validation set. However, because the dataset is quite small, the validation set would probably yield suboptimal hyperparameters."
   ]
  },
  {
   "cell_type": "markdown",
   "id": "209f8953-028f-498f-a5d0-77b31de7c26d",
   "metadata": {},
   "source": [
    "#### Optimizing the hyperparameter"
   ]
  },
  {
   "cell_type": "code",
   "execution_count": 10,
   "id": "bdc5d261-e4c7-4a15-8fc1-33a1dd89d50b",
   "metadata": {},
   "outputs": [],
   "source": [
    "# This function calculates some of the main metrics that will be used to evaluate the results.\n",
    "def get_score(true_labels, predictions, labels):\n",
    "    scores = pd.Series(dtype=float)\n",
    "    scores[\"UAR\"] = recall_score(true_labels, predictions, average='macro')\n",
    "    scores[\"WAR\"] = recall_score(true_labels, predictions, average='weighted')\n",
    "    \n",
    "    recall_scores = recall_score(true_labels, predictions, average=None, labels=labels)\n",
    "    for label, rec_score in zip(labels, recall_scores):\n",
    "        scores[f\"recall_{label}\"] =  rec_score\n",
    "        \n",
    "    scores[\"recall_mean\"] = recall_scores.mean()  \n",
    "    \n",
    "    precision_scores = precision_score(true_labels, predictions, average=None, zero_division=0, labels=labels)\n",
    "    for label, prec_score in zip(labels, precision_scores):\n",
    "        scores[f\"precision_{label}\"] =  prec_score\n",
    "    scores[\"precision_mean\"] = precision_scores.mean() \n",
    "    \n",
    "    f1_scores = f1_score(true_labels, predictions, average=None, labels=labels)\n",
    "    for label, f1 in zip(labels, f1_scores):\n",
    "        scores[f\"f1_{label}\"] =  f1\n",
    "    scores[\"f1_mean\"] = f1_scores.mean()  \n",
    "\n",
    "    cm = confusion_matrix(true_labels, predictions, labels=labels)\n",
    "    \n",
    "    return scores, cm\n"
   ]
  },
  {
   "cell_type": "code",
   "execution_count": 11,
   "id": "91dba636-ebce-4a83-953d-8edc33bea094",
   "metadata": {},
   "outputs": [],
   "source": [
    "# Some hyperparameters for our search and optimization. \n",
    "k_folds = 5      #number of folds\n",
    "hyperparameter_space = range(1, 15)"
   ]
  },
  {
   "cell_type": "code",
   "execution_count": 12,
   "id": "6e557e88-1c4d-467d-b38b-a81e0c9d6b61",
   "metadata": {},
   "outputs": [
    {
     "name": "stderr",
     "output_type": "stream",
     "text": [
      "5it [00:14,  2.94s/it]\n"
     ]
    }
   ],
   "source": [
    "# Here we will store the results\n",
    "results_test = pd.DataFrame()\n",
    "results_train = pd.DataFrame()\n",
    "confusion_matrices = {}\n",
    "labels = emodb.emotions[\"emotion\"].to_list()\n",
    "\n",
    "for n_neighbors in hyperparameter_space:\n",
    "    confusion_matrices[n_neighbors] = {}\n",
    "\n",
    "# the EmoDB_data class already provides a generator that allows to go though a desired number of Group-K-Folds,\n",
    "# providing a dictionary with the training and test X and y data.\n",
    "for k, train_test_split in tqdm(enumerate(emodb.get_train_test_folds(k_folds=k_folds, labeling=\"emotion\"))):\n",
    "    X_train = train_test_split[\"X_train\"]\n",
    "    X_test = train_test_split[\"X_test\"]\n",
    "    y_train = train_test_split[\"y_train\"]\n",
    "    y_test = train_test_split[\"y_test\"]\n",
    "    \n",
    "    \n",
    "    # Normalize the values\n",
    "    scaler = StandardScaler()\n",
    "    X_train = scaler.fit_transform(X_train)\n",
    "    X_test = scaler.transform(X_test)\n",
    "    \n",
    "    # Let us try 4 different C values and see which is the best\n",
    "    for n_neighbors in hyperparameter_space:\n",
    "        \n",
    "        \n",
    "        clf = KNeighborsClassifier(n_neighbors=n_neighbors)\n",
    "        clf.fit(X_train, y_train)\n",
    "        \n",
    "        # calculate the performance on the test set and store values\n",
    "        test_predictions = clf.predict(X_test)\n",
    "        scores, confusion_matrices[n_neighbors][k] = get_score(y_test, test_predictions, clf.classes_)\n",
    "        scores[\"n_neighbors\"] = n_neighbors\n",
    "        scores[\"k_fold\"] = k\n",
    "        \n",
    "        #make sure confusion matrix is ordered correctly:\n",
    "        permutation = [list(clf.classes_).index(element) for element in labels]\n",
    "        confusion_matrices[n_neighbors][k][permutation][:, permutation]\n",
    "        \n",
    "        results_test = pd.concat([results_test, scores], axis=1)\n",
    "        \n",
    "        # calculate the performance on the train set and store values\n",
    "        train_predictions = clf.predict(X_train)\n",
    "        scores, _ = get_score(y_train, train_predictions, clf.classes_)\n",
    "        scores[\"n_neighbors\"] = n_neighbors\n",
    "        scores[\"k_fold\"] = k\n",
    "        \n",
    "        results_train = pd.concat([results_train, scores], axis=1)\n",
    "        \n",
    "        \n",
    "        \n",
    "results_test = results_test.T\n",
    "results_train = results_train.T\n"
   ]
  },
  {
   "cell_type": "markdown",
   "id": "e4682d52-b999-4420-8d0b-1422624452ee",
   "metadata": {},
   "source": [
    "#### Evaluation\n",
    "\n",
    "Now that the classifier has tried different values for the hyperparameter for k=5 folds of training and test sets, we can evaluate the results. \n",
    "\n",
    "The first graph shows the Weighted Average Recall over the different values of the hyperparameter that we tested for both the training and the test set. This is a perfect example of how a classifier might overfit to the training set if the n_neighbours are too low, and also speaks to the importance of making the training and testing sets independent in order to measure as close as possible the empirical risk."
   ]
  },
  {
   "cell_type": "code",
   "execution_count": 13,
   "id": "7bfdec16-ca4c-48dd-92ca-09370c11f212",
   "metadata": {},
   "outputs": [
    {
     "data": {
      "image/png": "[encoded data removed]",
      "text/plain": [
       "<Figure size 640x480 with 1 Axes>"
      ]
     },
     "metadata": {},
     "output_type": "display_data"
    }
   ],
   "source": [
    "plot = sns.lineplot(data=results_test, x=\"n_neighbors\", y=\"WAR\", label=\"training set\")\n",
    "plot = sns.lineplot(data=results_train, x=\"n_neighbors\", y=\"WAR\", label=\"test set\")\n",
    "plot.set_title(\"WAR on training and test set\")\n",
    "plt.show()"
   ]
  },
  {
   "cell_type": "markdown",
   "id": "8db6e651-a99e-470f-bebc-034e5824e548",
   "metadata": {},
   "source": [
    "Weighted Average Recall is, in general, a very interesting metric for this kind of study, since it gives us a better understanding about how often the classifier is right. However, if we look at the recall score for the different emotions in the table below, we notice that the classifier has a 91% recall on Anger, however only 23% recall on Happiness. And while the recall is high, we can observe that the classifier is quite biased towards the most common emotions in our dataset, since the precision for Anger is actually quite lower than expected. The F1 score gives a more precise estimate of how well our classifier is doing with certain emotions (and on average), and it seems its actually better at detecting Sadness than Anger, however hapiness is still quite bad. Let's investigate further."
   ]
  },
  {
   "cell_type": "code",
   "execution_count": 14,
   "id": "a9e92d36-aa6f-486f-ba7a-8f93f81638bf",
   "metadata": {},
   "outputs": [
    {
     "data": {
      "text/plain": [
       "n_neighbors            6.000000\n",
       "UAR                    0.618896\n",
       "WAR                    0.675440\n",
       "recall_anger           0.912513\n",
       "recall_boredom         0.830410\n",
       "recall_disgust         0.440949\n",
       "recall_fear            0.360641\n",
       "recall_happiness       0.236508\n",
       "recall_neutral         0.753319\n",
       "recall_sadness         0.797931\n",
       "recall_mean            0.618896\n",
       "precision_anger        0.699153\n",
       "precision_boredom      0.643271\n",
       "precision_disgust      0.583636\n",
       "precision_fear         0.694286\n",
       "precision_happiness    0.473333\n",
       "precision_neutral      0.627336\n",
       "precision_sadness      0.894505\n",
       "precision_mean         0.659360\n",
       "f1_anger               0.784779\n",
       "f1_boredom             0.720458\n",
       "f1_disgust             0.501364\n",
       "f1_fear                0.467244\n",
       "f1_happiness           0.306970\n",
       "f1_neutral             0.680778\n",
       "f1_sadness             0.837839\n",
       "f1_mean                0.614205\n",
       "Name: 5, dtype: float64"
      ]
     },
     "execution_count": 14,
     "metadata": {},
     "output_type": "execute_result"
    }
   ],
   "source": [
    "mean_results = results_test.drop(\"k_fold\", axis=1).groupby(\"n_neighbors\").mean().reset_index()\n",
    "top_index = mean_results[\"WAR\"].argmax()\n",
    "top_neighbors = int(mean_results.loc[top_index, \"n_neighbors\"])\n",
    "mean_results.loc[top_index]"
   ]
  },
  {
   "cell_type": "markdown",
   "id": "b0e91cd2-de07-41f0-befe-cd418873f602",
   "metadata": {},
   "source": [
    "Below we can see a Confusion Matrix. It shows the amount of samples in the test set that have a particular true value, and how our classifier predicted them. Similar to the confusion matrix in binary classification that gives us the True Positives, True Negatives and the False positives or negatives, with multiclass classification, we see which labels were confounded with which. \n",
    "In general, it is interesting to look at the values outside the diagonal of correctly classifier samples to understand how the classifier is wrong, and what would be the cause.\n",
    "In our particular case, we see that Anger was quite often correct, however sometimes mistaken for either happiness, or even fear, sadness or disgust. The other way round, Happiness was more often classifier as Anger than Happiness itself. Of course, one can try to imagine that maybe emotions are hard to distinguish, both for humans and for computers, however, the inbalance in the dataset can also be a major cause (remember that Anger was the most common label, while Happiness the least common).\n"
   ]
  },
  {
   "cell_type": "code",
   "execution_count": 15,
   "id": "670b8954-2f74-4289-976a-76b5cac7c2ad",
   "metadata": {},
   "outputs": [
    {
     "data": {
      "image/png": "[encoded data removed]",
      "text/plain": [
       "<Figure size 640x480 with 2 Axes>"
      ]
     },
     "metadata": {},
     "output_type": "display_data"
    }
   ],
   "source": [
    "# get confusion matrix for top neighbor hyperparameter, averaged over the kfolds\n",
    "top_cm = np.array(list(confusion_matrices[top_neighbors].values())).mean(axis=0)\n",
    "    \n",
    "\n",
    "disp = ConfusionMatrixDisplay(confusion_matrix=top_cm, display_labels=labels).plot(cmap=\"Blues\")\n",
    "plt.xticks(rotation=45)\n",
    "plt.grid(False)\n",
    "plt.show()"
   ]
  },
  {
   "cell_type": "markdown",
   "id": "c15f83b8-333e-4105-adf2-d515486aa4f1",
   "metadata": {},
   "source": [
    "#### Final training\n",
    "Now that we have tested our best performing hyperparameter for the number of neighbours for the KNN classifier, and have some understanding of how it would perform on unseen data, it is time to train the final classifier on the whole dataset that we have available. Hopefully it works a bit better, however there is no way to measure it unless we gather more data."
   ]
  },
  {
   "cell_type": "code",
   "execution_count": 16,
   "id": "196e143b-07dc-4ad7-af9e-65bbfc5e2b27",
   "metadata": {},
   "outputs": [],
   "source": [
    "X, y = emodb.get_full_training_data(labeling=\"emotion\")\n",
    "\n",
    "scaler = StandardScaler()\n",
    "X_train = scaler.fit_transform(X_train)\n",
    "\n",
    "clf = KNeighborsClassifier(n_neighbors=top_neighbors)\n",
    "clf.fit(X_train, y_train)\n",
    "\n",
    "pickle.dump(scaler, open('scaler.pkl', 'wb'))\n",
    "pickle.dump(clf, open('classifier.pkl', 'wb'))"
   ]
  },
  {
   "cell_type": "markdown",
   "id": "2e4bc92e-6608-49ae-b053-18a2f2a43b8e",
   "metadata": {},
   "source": [
    "## Make it ready to use!\n",
    "Now, lets have a Simple Speech Emotion Recognizer class that is ready to be used. Once instantiated, one can just ask it to *predict* a .wav file with a voice recording and get the (hopefully) correct emotion."
   ]
  },
  {
   "cell_type": "code",
   "execution_count": 17,
   "id": "99352ed7-7caa-42c0-949e-e6a225865f9b",
   "metadata": {},
   "outputs": [],
   "source": [
    "class SimpleSpeechEmotionRecognizer():\n",
    "\n",
    "    def __init__(self, warnings=True):\n",
    "        self.smile = opensmile.Smile(\n",
    "            feature_set=opensmile.FeatureSet.ComParE_2016,\n",
    "            feature_level=opensmile.FeatureLevel.Functionals,\n",
    "        )\n",
    "        \n",
    "        self.scaler = pickle.load(open(\"scaler.pkl\", 'rb'))\n",
    "        self.classifier = pickle.load(open(\"classifier.pkl\", 'rb'))\n",
    "        \n",
    "    def _get_opensmile_from_wav(self, file_path: str):\n",
    "        if not os.path.exists(file_path):\n",
    "            raise FileNotFoundError(f\"'{file_path}' was not found\")\n",
    "\n",
    "        data = self.smile.process_file(file_path)\n",
    "\n",
    "        data = pd.DataFrame(data).reset_index()\n",
    "        return data\n",
    "    \n",
    "    def predict(self, file_path: str)->str:\n",
    "        data = self._get_opensmile_from_wav(file_path=file_path)\n",
    "        \n",
    "        X = data.drop([\"file\", \"start\", \"end\"], axis=1).copy().to_numpy()\n",
    "        X = self.scaler.transform(X)\n",
    "        prediction = self.classifier.predict(X)[0]\n",
    "\n",
    "        return prediction\n"
   ]
  },
  {
   "cell_type": "markdown",
   "id": "8f37394f-6722-4f1a-860c-80b502704723",
   "metadata": {},
   "source": [
    "#### Let's test it out"
   ]
  },
  {
   "cell_type": "code",
   "execution_count": 18,
   "id": "927431a8-5e25-47f4-8900-c548e67496a9",
   "metadata": {},
   "outputs": [],
   "source": [
    "simple_SER = SimpleSpeechEmotionRecognizer()"
   ]
  },
  {
   "cell_type": "code",
   "execution_count": 19,
   "id": "2aa0f2a6-e6c1-4565-b498-d6df3f7a8c67",
   "metadata": {},
   "outputs": [
    {
     "data": {
      "text/plain": [
       "'anger'"
      ]
     },
     "execution_count": 19,
     "metadata": {},
     "output_type": "execute_result"
    }
   ],
   "source": [
    "# in the file name 03a01Wa.wav, the \"W\" letter stands for \"Wut\", meaning Anger in german\n",
    "simple_SER.predict(\"EmoDB/wav/03a01Wa.wav\")"
   ]
  }
 ],
 "metadata": {
  "kernelspec": {
   "display_name": "Python 3 (ipykernel)",
   "language": "python",
   "name": "python3"
  },
  "language_info": {
   "codemirror_mode": {
    "name": "ipython",
    "version": 3
   },
   "file_extension": ".py",
   "mimetype": "text/x-python",
   "name": "python",
   "nbconvert_exporter": "python",
   "pygments_lexer": "ipython3",
   "version": "3.10.6"
  }
 },
 "nbformat": 4,
 "nbformat_minor": 5
}
